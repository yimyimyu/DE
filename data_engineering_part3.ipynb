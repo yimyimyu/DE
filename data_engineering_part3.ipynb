{
  "nbformat": 4,
  "nbformat_minor": 0,
  "metadata": {
    "colab": {
      "private_outputs": true,
      "provenance": []
    },
    "kernelspec": {
      "name": "python3",
      "display_name": "Python 3"
    },
    "language_info": {
      "name": "python"
    }
  },
  "cells": [
    {
      "cell_type": "code",
      "source": [
        "import pandas as pd\n",
        "import requests\n",
        "import glob\n",
        "from bs4 import BeautifulSoup\n",
        "from datetime import datetime"
      ],
      "metadata": {
        "id": "06NGChjr-0Tb"
      },
      "execution_count": null,
      "outputs": []
    },
    {
      "cell_type": "code",
      "source": [
        "# Đường dẫn URL và CSV\n",
        "url = \"https://web.archive.org/web/20230908091635%20/https://en.wikipedia.org/wiki/List_of_largest_banks\"\n",
        "csv_path = \"https://cf-courses-data.s3.us.cloud-object-storage.appdomain.cloud/IBMSkillsNetwork-PY0221EN-Coursera/labs/v2/exchange_rate.csv\"\n",
        "db_name = \"Banks.db\"\n",
        "table_name = \"Largest_banks\"\n",
        "log_file = \"log.txt\"\n",
        "target_file = \"transformed_data.csv\""
      ],
      "metadata": {
        "id": "aaD3FqLa-7tZ"
      },
      "execution_count": null,
      "outputs": []
    },
    {
      "cell_type": "code",
      "source": [
        "# Bắt đầu thu thập dữ liệu từ URL\n",
        "df = pd.DataFrame(columns=[\"Name\", \"MC_USD_Billion\"])\n",
        "html_parser = requests.get(url).text\n",
        "soup = BeautifulSoup(html_parser, \"html.parser\")\n",
        "tables = soup.find_all('tbody')\n",
        "rows = tables[0].find_all('tr')"
      ],
      "metadata": {
        "id": "4vJ-vYNXCwhq"
      },
      "execution_count": null,
      "outputs": []
    },
    {
      "cell_type": "code",
      "source": [
        "for row in rows:\n",
        "    col = row.find_all('td')\n",
        "    if len(col) != 0:\n",
        "        name = col[1].text.strip()\n",
        "        mc = col[2].text.strip().replace(',', '')  # Loại bỏ dấu phẩy để chuẩn bị cho việc chuyển đổi số\n",
        "        temp_df = pd.DataFrame([[name, float(mc)]], columns=[\"Name\", \"MC_USD_Billion\"])\n",
        "        df = pd.concat([df, temp_df], ignore_index=True)\n"
      ],
      "metadata": {
        "id": "59BZzARIC2Pc"
      },
      "execution_count": null,
      "outputs": []
    },
    {
      "cell_type": "code",
      "source": [
        "print(df)"
      ],
      "metadata": {
        "id": "PRWulyV5Dq2b"
      },
      "execution_count": null,
      "outputs": []
    },
    {
      "cell_type": "code",
      "source": [
        "log_file=\"log.txt\"\n",
        "target_file=\"transformed_data_csv\""
      ],
      "metadata": {
        "id": "krlrSNPtEWzl"
      },
      "execution_count": null,
      "outputs": []
    },
    {
      "cell_type": "code",
      "source": [
        "def extract_from_csv(file_to_process):\n",
        "    dataframe=pd.read_csv(file_to_process)\n",
        "    return dataframe\n",
        "\n",
        "def extract():\n",
        "    extracted_data = df  # Sử dụng dữ liệu từ trang web\n",
        "    return extracted_data"
      ],
      "metadata": {
        "id": "jJxhETfUE614"
      },
      "execution_count": null,
      "outputs": []
    },
    {
      "cell_type": "code",
      "source": [],
      "metadata": {
        "id": "K6c5sjLSSzR8"
      },
      "execution_count": null,
      "outputs": []
    },
    {
      "cell_type": "code",
      "source": [
        "df_i=pd.read_csv(csv_path)\n",
        "df_i"
      ],
      "metadata": {
        "id": "oiifNcP-Rc_f"
      },
      "execution_count": null,
      "outputs": []
    },
    {
      "cell_type": "code",
      "source": [
        "def transform(data):\n",
        "    rates_df = pd.read_csv(csv_path)  # Đọc tỷ giá từ file CSV\n",
        "    # Chuyển đổi theo từng loại tiền\n",
        "    data[\"MC_GBP_Billion\"] = round(data[\"MC_USD_Billion\"] * rates_df['Rate'][1], 2)  # GBP\n",
        "    data[\"MC_EUR_Billion\"] = round(data[\"MC_USD_Billion\"] * rates_df['Rate'][0], 2)  # EUR\n",
        "    data[\"MC_INR_Billion\"] = round(data[\"MC_USD_Billion\"] * rates_df['Rate'][2], 2)  # INR\n",
        "    return data"
      ],
      "metadata": {
        "id": "nksI5LwKQvxQ"
      },
      "execution_count": null,
      "outputs": []
    },
    {
      "cell_type": "code",
      "source": [
        "def load_data(target_file,data_to_load):\n",
        "    data_to_load.to_csv(target_file)\n",
        "def log_progress(message):\n",
        "    timestamp_format='%Y-%h-%d-%H:%M:%S'\n",
        "    now=datetime.now()\n",
        "    timestamp=now.strftime(timestamp_format)\n",
        "    with open(log_file,\"a\") as f:\n",
        "        f.write(timestamp+','+message+'\\n')"
      ],
      "metadata": {
        "id": "r2EAt1TMQfb8"
      },
      "execution_count": null,
      "outputs": []
    },
    {
      "cell_type": "code",
      "source": [
        "# Ghi log bắt đầu quá trình trích xuất\n",
        "log_progress(\"Extract phase Started\")\n",
        "extracted_data = extract()\n",
        "\n",
        "# Ghi log hoàn thành quá trình trích xuất\n",
        "log_progress(\"Extract phase Ended\")\n",
        "\n",
        "# Ghi log bắt đầu quá trình chuyển đổi\n",
        "log_progress(\"Transform phase Started\")\n",
        "transformed_data = transform(extracted_data)\n",
        "print(\"Transformed Data\")\n",
        "print(transformed_data)\n",
        "\n",
        "# Ghi log hoàn thành quá trình chuyển đổi\n",
        "log_progress(\"Transform phase Ended\")\n",
        "\n",
        "# Ghi log bắt đầu quá trình tải dữ liệu\n",
        "log_progress(\"Load phase Started\")\n",
        "load_data(target_file, transformed_data)\n",
        "\n",
        "# Ghi log hoàn thành quá trình tải dữ liệu\n",
        "log_progress(\"Load phase Ended\")\n",
        "\n",
        "# Ghi log hoàn thành ETL\n",
        "log_progress(\"ETL Job Ended\")"
      ],
      "metadata": {
        "id": "yj8JhpzeQsbB"
      },
      "execution_count": null,
      "outputs": []
    },
    {
      "cell_type": "code",
      "source": [],
      "metadata": {
        "id": "RdJk7oTbTXZ7"
      },
      "execution_count": null,
      "outputs": []
    }
  ]
}